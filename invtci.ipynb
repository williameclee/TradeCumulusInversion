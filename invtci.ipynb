{
  "cells": [
    {
      "cell_type": "markdown",
      "metadata": {
        "colab_type": "text",
        "id": "view-in-github"
      },
      "source": [
        "<a href=\"https://colab.research.google.com/github/williameclee/trade-cumulus-inversion/blob/main/invtci.ipynb\" target=\"_parent\"><img src=\"https://colab.research.google.com/assets/colab-badge.svg\" alt=\"Open In Colab\"/></a>"
      ]
    },
    {
      "cell_type": "markdown",
      "metadata": {
        "id": "yzX3HLufdMra"
      },
      "source": [
        "# Trade Cumulus Inversion\n",
        "\n",
        "## Loading of necessary libraries\n",
        "The required libraries include: `numpy`, `scipy`, `matplotlib`, and custom libraries `inv` and `updateboundary`."
      ]
    },
    {
      "cell_type": "code",
      "execution_count": null,
      "metadata": {},
      "outputs": [],
      "source": [
        "%load_ext autoreload\n",
        "%autoreload 2\n",
        "import numpy as np\n",
        "import scipy as sp\n",
        "import matplotlib.pyplot as plt\n",
        "from inv import *\n",
        "from updateBoundary import *"
      ]
    },
    {
      "cell_type": "markdown",
      "metadata": {},
      "source": [
        "## Speficication of experiment parameters"
      ]
    },
    {
      "cell_type": "code",
      "execution_count": null,
      "metadata": {
        "id": "qDxQnwBHdWLl"
      },
      "outputs": [],
      "source": [
        "# Experiment dimensions\n",
        "K = 61\n",
        "J = 81\n",
        "Jt = 2 * J + 1\n",
        "Kt = K + 2\n",
        "\n",
        "# Physical parameters\n",
        "R = 287.\n",
        "cp = 1004.\n",
        "kappa = R / cp\n",
        "gr = 9.81\n",
        "Ae = 6.371e06\n",
        "Omega = 7.292e-05\n",
        "rom = Ae * Omega"
      ]
    },
    {
      "cell_type": "markdown",
      "metadata": {},
      "source": [
        "## Initialising paremeters for experiment 2"
      ]
    },
    {
      "cell_type": "code",
      "execution_count": null,
      "metadata": {},
      "outputs": [],
      "source": [
        "thetat = 320.  # theta (kelvin) at model top\n",
        "thetab = 300.  # theta (kelvin) at model bottom\n",
        "sigma0 = 45. * 100  # sigma0 (Pa/K)\n",
        "pb = 1000 * 100  # pressure (Pa) at model bottom\n",
        "\n",
        "Dp = 58. * 100  # pressure (Pa) change across inversion\n",
        "theta10 = 303.  # mean theta (kelvin) in inversion\n",
        "Dtheta = 4.  # dtheta (kelvin) of inversion\n",
        "thetac = 3.  # thetac (kelvin) of inversion\n",
        "\n",
        "phis = -30.  # southern extent of inversion (degrees)\n",
        "phin = 30.  # northern extent of inversion (degrees)\n",
        "phic = 0.  # latitude (degrees) of inversion center\n",
        "\n",
        "pt = pb - sigma0 * (thetat - thetab) + Dp"
      ]
    },
    {
      "cell_type": "code",
      "execution_count": null,
      "metadata": {},
      "outputs": [],
      "source": [
        "alpha = (pb - pt) / pb\n",
        "beta = thetab / (thetat - thetab)\n",
        "cs = alpha * R * (thetat - thetab)\n",
        "eps = 4 * rom**2 / cs"
      ]
    },
    {
      "cell_type": "markdown",
      "metadata": {},
      "source": [
        "## Initialising coordinates"
      ]
    },
    {
      "cell_type": "code",
      "execution_count": null,
      "metadata": {},
      "outputs": [],
      "source": [
        "# Horizontal grid\n",
        "Y = np.linspace(-1, 1, Jt)  # Potential latitude (S) in the paper\n",
        "DY = Y[1] - Y[0]\n",
        "phi = np.rad2deg(np.arcsin(Y))\n",
        "\n",
        "# Vertical grid\n",
        "Z = np.linspace(0, 1, K)\n",
        "DZ = Z[1] - Z[0]\n",
        "th = np.linspace(thetab, thetat, K).T\n",
        "Dth = th[1] - th[0]\n",
        "th_pad = np.concatenate((np.array([thetab - Dth]), th, np.array([thetat + Dth])))\n",
        "\n",
        "YY, Th_pad = np.meshgrid(Y, th_pad, indexing=\"ij\")\n",
        "phii = np.meshgrid(phi, th_pad, indexing=\"ij\")[0]\n",
        "\n",
        "fac1 = eps * DY * Y\n",
        "fac2 = 2 * DY * DZ**2\n",
        "f1 = fac1 * (1 - Y**2)"
      ]
    },
    {
      "cell_type": "markdown",
      "metadata": {},
      "source": [
        "## Initialising variables for experiment 2"
      ]
    },
    {
      "cell_type": "code",
      "execution_count": null,
      "metadata": {},
      "outputs": [],
      "source": [
        "# Theta\n",
        "phi_N = (phi <= phin) & (phi > phic)\n",
        "phi_S = (phi >= phis) & (phi < phic)\n",
        "phi_C = phi == phic\n",
        "th1 = np.full((Jt), theta10)\n",
        "\n",
        "th1[phi_N] = theta10 + Dtheta * fexp((phin - phi[phi_N]) / (phin - phic))\n",
        "th1[phi_S] = theta10 + Dtheta * fexp((phi[phi_S] - phis) / (phic - phis))\n",
        "th1[phi_C] = theta10 + Dtheta\n",
        "th2 = th1 + thetac\n",
        "\n",
        "del phi_N, phi_S, phi_C\n",
        "\n",
        "#  Pressure\n",
        "th1_grid = np.meshgrid(th1, th_pad, indexing=\"ij\")[0]\n",
        "th2_grid = np.meshgrid(th2, th_pad, indexing=\"ij\")[0]\n",
        "th_T = Th_pad >= th2_grid\n",
        "th_C = (Th_pad > th1_grid) & (Th_pad < th2_grid)\n",
        "th_B = Th_pad <= th1_grid\n",
        "Pres = pb - sigma0 * (Th_pad - thetab)\n",
        "Pres[th_T] = Pres[th_T] + Dp\n",
        "Pres[th_C] = Pres[th_C] + Dp * fexp((Th_pad[th_C] - th1_grid[th_C]) / thetac)\n",
        "Pres = Pres / pb\n",
        "pref = np.zeros([1, Kt])\n",
        "for k in range(Kt):\n",
        "    pref[0, k] = pmean(Pres[:, k], Y)\n",
        "Gamma = Pres ** (kappa - 1)"
      ]
    },
    {
      "cell_type": "code",
      "execution_count": null,
      "metadata": {},
      "outputs": [],
      "source": [
        "# compute initial m field at even points\n",
        "# the M (Montgomery potential) is normalised by a factor of cs\n",
        "X = np.zeros((Jt, Kt))\n",
        "\n",
        "X[1:-1:2, 1] = cp * thetab / cs\n",
        "for j in range(1, Jt - 1, 2):\n",
        "    Mp = Pres[j, 1:-1] ** kappa / (kappa * alpha)\n",
        "    X[j, 1:-1] = intdde(Mp, X[j, 1], DZ)\n",
        "X[1:-1:2, 0] = X[1:-1:2, 2] - 2 * DZ * X[1:-1:2, 1] / beta\n",
        "X[1:-1:2, -1] = X[1:-1:2, -3] + 2 * DZ * (1 - alpha) ** kappa / (kappa * alpha)\n",
        "\n",
        "# initialise x (i.e., sin(phi)) at odd points\n",
        "X[::2, :] = np.tile(Y[::2], (Kt, 1)).T"
      ]
    },
    {
      "cell_type": "markdown",
      "metadata": {},
      "source": [
        "## Compute Sigma"
      ]
    },
    {
      "cell_type": "code",
      "execution_count": null,
      "metadata": {},
      "outputs": [],
      "source": [
        "tinc = 0.1\n",
        "Sigma = np.ones((Jt, Kt)) \n",
        "\n",
        "# Calculate sigma values\n",
        "for j in range(Jt):\n",
        "    for k in range(1,Kt):\n",
        "        if th_C[j, k] != 1:\n",
        "            continue\n",
        "        tp = th[k] + tinc\n",
        "        tm = th[k] - tinc\n",
        "        fp = (tp - th1[j]) / (th2[j] - th1[j])\n",
        "        fm = (tm - th1[j]) / (th2[j] - th1[j])\n",
        "        dfdt = (fp - fm) / (2 * tinc)\n",
        "        Sigma[j, k] = (sigma0 - Dp * dfdt) / sigma0\n",
        "\n",
        "del th1_grid, th2_grid, th_T, th_C"
      ]
    },
    {
      "cell_type": "code",
      "execution_count": null,
      "metadata": {},
      "outputs": [],
      "source": [
        "X, Pres, Gamma, pmean = updateBoundary(X, Y, DZ, Pres, Gamma, pref, fac1, alpha, beta, eps, kappa)\n",
        "\n",
        "Pres0 = Pres.copy()\n",
        "X0 = X.copy()"
      ]
    },
    {
      "cell_type": "markdown",
      "metadata": {},
      "source": [
        "## Iteration"
      ]
    },
    {
      "cell_type": "code",
      "execution_count": null,
      "metadata": {},
      "outputs": [],
      "source": [
        "for n in range(100):\n",
        "    for kz in [1, 2]:\n",
        "        for niter in range(4):\n",
        "            for k in range(kz, Kt - 1, 2):\n",
        "                Jac = np.zeros([X.shape[0], X.shape[0]])\n",
        "                G = np.zeros((X.shape[0], 1))\n",
        "\n",
        "                for j in range(1, Jt - 1, 2):\n",
        "                    dsdY = X[j + 1, k] - X[j - 1, k]\n",
        "                    dMdZZ = X[j, k - 1] - 2 * X[j, k] + X[j, k + 1]\n",
        "\n",
        "                    Jac[j, j] = -2 * dsdY\n",
        "                    Jac[j, j - 1] = -dMdZZ\n",
        "                    Jac[j, j + 1] = dMdZZ\n",
        "                    G[j] = dsdY * dMdZZ + Gamma[j, k] * Sigma[j, k] * fac2\n",
        "\n",
        "                for j in range(2, Jt - 2, 2):\n",
        "                    dMdY = X[j + 1, k] - X[j - 1, k]\n",
        "\n",
        "                    Jac[j, j] = (\n",
        "                        fac1[j]\n",
        "                        * (2 * X[j, k])\n",
        "                        * (1 - Y[j] ** 2)\n",
        "                        / (1 - X[j, k] ** 2) ** 2\n",
        "                    )\n",
        "                    Jac[j, j - 1] = -1\n",
        "                    Jac[j, j + 1] = 1\n",
        "                    G[j] = dMdY - fac1[j] * (Y[j] ** 2 - X[j, k] ** 2) / (\n",
        "                        1 - X[j, k] ** 2\n",
        "                    )\n",
        "\n",
        "                X[1:-1, k] = X[1:-1, k] - np.linalg.solve(Jac[1:-1, 1:-1], G[1:-1]).T\n",
        "    X, Pres, Gamma, pmean = updateBoundary(\n",
        "        X, Y, DZ, Pres, Gamma, pref, fac1, alpha, beta, eps, kappa\n",
        "    )"
      ]
    },
    {
      "cell_type": "markdown",
      "metadata": {},
      "source": [
        "## Plot Pre- and Post-Adjusted Fields"
      ]
    },
    {
      "cell_type": "code",
      "execution_count": null,
      "metadata": {},
      "outputs": [],
      "source": [
        "## Interpolate variables back to physical space\n",
        "M_int = np.arange(1, Jt, 2)\n",
        "s_int = np.arange(2, Jt - 1, 2)\n",
        "\n",
        "s_intp = X\n",
        "s_intp[M_int, :] = (X[M_int + 1, :] + X[M_int - 1, :]) / 2\n",
        "M_intp = X\n",
        "M_intp[s_int, :] = (X[s_int + 1, :] + X[s_int - 1, :]) / 2\n",
        "Pres_intp = Pres * pb / 100\n",
        "Pres_intp[s_int, :] = (Pres_intp[s_int + 1, :] + Pres_intp[s_int - 1, :]) / 2\n",
        "Pres0_intp = Pres0 * pb / 100\n",
        "Pres0_intp[s_int, :] = (Pres0_intp[s_int + 1, :] + Pres0_intp[s_int - 1, :]) / 2\n",
        "\n",
        "phi_intp = np.rad2deg(np.arcsin(s_intp))\n",
        "Phi_intp = np.rad2deg(np.arcsin(YY))\n",
        "\n",
        "u = (\n",
        "    Omega\n",
        "    * Ae\n",
        "    * (np.sin(np.deg2rad(phi_intp)) ** 2 - np.sin(np.deg2rad(Phi_intp)) ** 2)\n",
        "    / np.cos(np.deg2rad(phi_intp))\n",
        ")\n",
        "u[M_int, :] = (u[M_int + 1, :] + u[M_int - 1, :]) / 2\n",
        "\n",
        "T = Th_pad * (Pres_intp / (pb / 100)) ** kappa\n",
        "T0 = Th_pad * (Pres0_intp / (pb / 100)) ** kappa\n",
        "DTDH = np.zeros((Jt, Kt))\n",
        "DTDH0 = np.zeros((Jt, Kt))\n",
        "DTDH[:, 2:-2] = (\n",
        "    (T[:, 3:-1] - T[:, 1:-3])\n",
        "    / (R * T[:, 2:-2] / gr * np.log(Pres_intp[:, 1:-3] / Pres_intp[:, 3:-1]))\n",
        "    * 1000\n",
        ")\n",
        "DTDH0[:, 2:-2] = (\n",
        "    (T0[:, 3:-1] - T0[:, 1:-3])\n",
        "    / (R * T0[:, 2:-2] / gr * np.log(Pres0_intp[:, 1:-3] / Pres0_intp[:, 3:-1]))\n",
        "    * 1000\n",
        ")"
      ]
    },
    {
      "cell_type": "code",
      "execution_count": null,
      "metadata": {},
      "outputs": [],
      "source": [
        "import matplotlib.ticker as mticker\n",
        "\n",
        "## Plot\n",
        "lat_xlim = [-30, 30]\n",
        "lat_xticks = np.arange(-30, 40, 10)\n",
        "lat_xticklabels = ['30°S','20°S','10°S','0°','10°N','20°N','30°N']\n",
        "lat_xlabel = r\"Latitude $\\phi$\"\n",
        "gamma_xlim = [-9, 4]\n",
        "gamma_xticks = np.arange(-8, 5, 2)\n",
        "gamma_xlabel = r\"Lapse rate $\\Gamma$ [K/km]\"\n",
        "ylim = [990, 600]\n",
        "yticks = [ylim[1], 750, 850, 900, 950, ylim[0]]\n",
        "ylabel = r\"Pressure $p$ [hPa]\"\n",
        "cticks = np.arange(300, 312, 2)\n",
        "\n",
        "# Initial fields\n",
        "fig, ax = plt.subplots(figsize=(8, 4))\n",
        "plt_theta_i_conf = ax.contourf(\n",
        "    phi_intp, Pres0_intp, Th_pad, levels=np.arange(300, 312, 0.5), cmap=\"coolwarm\"\n",
        ")\n",
        "\n",
        "cbar = fig.colorbar(plt_theta_i_conf)\n",
        "cbar.set_ticks(cticks)\n",
        "cbar.set_label(r\"Potential temperature $\\theta$ [K]\")\n",
        "ax.set_yscale(\"log\")\n",
        "ax.set_xlim(lat_xlim)\n",
        "ax.set_ylim(ylim)\n",
        "ax.set_xticks(lat_xticks, lat_xticklabels)\n",
        "ax.set_yticks(yticks, minor=True)\n",
        "ax.yaxis.set_minor_formatter(mticker.ScalarFormatter())\n",
        "ax.set_xlabel(lat_xlabel)\n",
        "ax.set_ylabel(ylabel)\n",
        "ax.set_title(r\"Pre-adjustment potential temperature $\\theta$ [K]\")\n",
        "plt.show()\n",
        "\n",
        "# Final fields\n",
        "fig, ax = plt.subplots(figsize=(8, 4))\n",
        "plt_theta_f_conf = ax.contourf(\n",
        "    phi_intp, Pres_intp, Th_pad, levels=np.arange(300, 312, 0.5), cmap=\"coolwarm\"\n",
        ")\n",
        "plt_theta_f_cont = ax.contour(\n",
        "    phi_intp,\n",
        "    Pres_intp,\n",
        "    u,\n",
        "    levels=np.arange(-1, 1, 0.1),\n",
        "    colors=\"k\",\n",
        "    linewidths=0.5,\n",
        ")\n",
        "ax.clabel(plt_theta_f_cont, levels=np.arange(-1, 1, 0.2), inline=1, fontsize=10)\n",
        "\n",
        "cbar = fig.colorbar(plt_theta_f_conf)\n",
        "cbar.set_ticks(cticks)\n",
        "cbar.set_label(r\"Potential temperature $\\theta$ [K]\")\n",
        "ax.set_yscale(\"log\")\n",
        "ax.set_xlim(lat_xlim)\n",
        "ax.set_ylim(ylim)\n",
        "ax.set_xticks(lat_xticks, lat_xticklabels)\n",
        "ax.set_yticks(yticks, minor=True)\n",
        "ax.yaxis.set_minor_formatter(mticker.ScalarFormatter())\n",
        "ax.set_xlabel(lat_xlabel)\n",
        "ax.set_ylabel(ylabel)\n",
        "ax.set_title(\n",
        "    r\"Post-adjustment potential temperature $\\theta$ [K] and zonal wind $u$ [m/s]\"\n",
        ")\n",
        "plt.show()\n",
        "\n",
        "# Lapse rates\n",
        "fig, ax = plt.subplots(1, 2, figsize=(8, 4), sharey=True)\n",
        "ax[0].plot(\n",
        "    DTDH0[81, 2:-2],\n",
        "    Pres0_intp[81, 2:-2],\n",
        "    color=\"k\",\n",
        "    linewidth=0.5,\n",
        "    linestyle=\"--\",\n",
        "    label=\"initial\",\n",
        ")\n",
        "ax[0].plot(DTDH[81, 2:-2], Pres_intp[81, 2:-2], color=\"k\", linewidth=0.5, label=\"final\")\n",
        "\n",
        "ax[0].set_yscale(\"log\")\n",
        "ax[0].set_xlim(gamma_xlim)\n",
        "ax[0].set_ylim(ylim)\n",
        "ax[0].set_xticks(gamma_xticks)\n",
        "ax[0].set_yticks(yticks, minor=True)\n",
        "ax[0].yaxis.set_minor_formatter(mticker.ScalarFormatter())\n",
        "ax[0].set_xlabel(gamma_xlabel)\n",
        "ax[0].set_ylabel(ylabel)\n",
        "ax[0].set_title(r\"$\\phi = 0°$\")\n",
        "\n",
        "ax[1].plot(\n",
        "    DTDH0[40, 2:-2],\n",
        "    Pres0_intp[40, 2:-2],\n",
        "    color=\"k\",\n",
        "    linewidth=0.5,\n",
        "    linestyle=\"--\",\n",
        "    label=\"initial\",\n",
        ")\n",
        "ax[1].plot(DTDH[40, 2:-2], Pres_intp[40, 2:-2], color=\"k\", linewidth=0.5, label=\"final\")\n",
        "\n",
        "ax[1].legend()\n",
        "ax[1].set_xlim(gamma_xlim)\n",
        "ax[1].set_xticks(gamma_xticks)\n",
        "ax[1].set_xlabel(gamma_xlabel)\n",
        "ax[1].set_title(r\"$\\phi = 30$°S\")\n",
        "\n",
        "plt.show()"
      ]
    }
  ],
  "metadata": {
    "colab": {
      "authorship_tag": "ABX9TyMValJWSrQOIRuaaBO3Xe0B",
      "include_colab_link": true,
      "provenance": []
    },
    "kernelspec": {
      "display_name": "Python 3",
      "name": "python3"
    },
    "language_info": {
      "codemirror_mode": {
        "name": "ipython",
        "version": 3
      },
      "file_extension": ".py",
      "mimetype": "text/x-python",
      "name": "python",
      "nbconvert_exporter": "python",
      "pygments_lexer": "ipython3",
      "version": "3.10.5"
    }
  },
  "nbformat": 4,
  "nbformat_minor": 0
}
