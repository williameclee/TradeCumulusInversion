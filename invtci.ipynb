{
  "cells": [
    {
      "cell_type": "markdown",
      "metadata": {
        "colab_type": "text",
        "id": "view-in-github"
      },
      "source": [
        "<a href=\"https://colab.research.google.com/github/williameclee/trade-cumulus-inversion/blob/main/invtci.ipynb\" target=\"_parent\"><img src=\"https://colab.research.google.com/assets/colab-badge.svg\" alt=\"Open In Colab\"/></a>"
      ]
    },
    {
      "cell_type": "markdown",
      "metadata": {
        "id": "yzX3HLufdMra"
      },
      "source": [
        "# Trade Cumulus Inversion\n",
        "\n",
        "## Loading of necessary libraries"
      ]
    },
    {
      "cell_type": "code",
      "execution_count": 1,
      "metadata": {},
      "outputs": [],
      "source": [
        "import numpy as np"
      ]
    },
    {
      "cell_type": "markdown",
      "metadata": {},
      "source": [
        "\n",
        "## Speficication of experiment parameters"
      ]
    },
    {
      "cell_type": "code",
      "execution_count": 7,
      "metadata": {
        "id": "qDxQnwBHdWLl"
      },
      "outputs": [],
      "source": [
        "kc = 60\n",
        "kcp = kc+1\n",
        "kcm = kc-1\n",
        "jc = 81\n",
        "jt = 2*jc-1\n",
        "jl = 60\n",
        "\n",
        "R     = 287\n",
        "cp    = 1004\n",
        "kappa = R/cp\n",
        "gr    = 9.81\n",
        "Ae    = 6.371e+06 \n",
        "Omega = 7.292e-05\n",
        "rom   = Ae * Omega\n",
        "\n",
        "thetat = 320 # theta (kelvin) at model top\n",
        "thetab = 300 # theta (kelvin) at model bottom\n",
        "sigma0 = 4.5 # sigma0 (kPa/K)\n",
        "\n",
        "pb = 100 # pressure (mb) at model bottom\n",
        "dp = 10 # pressure (mb) change across inversion\n",
        "theta10 = 302 # mean theta (kelvin) in inversion\n",
        "dtheta = 5 # dtheta (kelvin) of inversion\n",
        "thetac = 305 # thetac (kelvin) of inversion\n",
        "\n",
        "phis = -np.pi/9 # southern extent of inversion (radians)\n",
        "phin = np.pi/9 # northern extent of inversion (radians)\n",
        "phic = 0 # latitude (degrees) of inversion center\n",
        "\n",
        "dp = dp * 100 # pressure (Pa) change across inversion\n",
        "pb = pb * 100 # pressure (Pa) at model bottom\n",
        "sigma0 = sigma0 * 1000 # sigma0 (Pa/K)\n",
        "pt = pb - sigma0*(thetat-thetab) + dp\n",
        "dt     = (thetat - thetab) / kc\n",
        "alpha  = (pb-pt) / pb\n",
        "beta   = thetab / (thetat-thetab)\n",
        "cs    = alpha*R*(thetat-thetab)\n",
        "eps   = 4 * rom*rom / cs\n",
        "\n",
        "dsc = 1.0 / jc\n",
        "sc = np.zeros(2*jc+1)\n",
        "scs = np.zeros(2*jc+1)\n",
        "fac1 = np.zeros(2*jc+1)\n",
        "f1 = np.zeros(2*jc+1)\n",
        "phid = np.zeros(2*jc+1)"
      ]
    },
    {
      "cell_type": "markdown",
      "metadata": {},
      "source": [
        "## Create coordinates"
      ]
    },
    {
      "cell_type": "code",
      "execution_count": 8,
      "metadata": {},
      "outputs": [],
      "source": [
        "for j in range(-jc, jc+1):\n",
        "    sc[j+jc] = j * dsc\n",
        "    if sc[j+jc] > 1.0:\n",
        "        sc[j+jc] = 1.0\n",
        "    if sc[j+jc] < -1.0:\n",
        "        sc[j+jc] = -1.0\n",
        "    scs[j+jc] = sc[j+jc] * sc[j+jc]\n",
        "    fac1[j+jc] = eps * dsc * sc[j+jc]\n",
        "    f1[j+jc] = fac1[j+jc] * (1.0 - scs[j+jc])\n",
        "    phid[j+jc] = np.rad2deg(np.arcsin(sc[j+jc]))\n",
        "\n",
        "dz = 1.0 / kc\n",
        "tdz = 2.0 * dz\n",
        "fac2 = 2.0 * dsc * dz * dz\n",
        "z = np.zeros(kc+1)\n",
        "theta = np.zeros(kc+1)\n",
        "\n",
        "for k in range(kc+1):\n",
        "    z[k] = k * dz\n",
        "    theta[k] = thetab + k * dt"
      ]
    },
    {
      "cell_type": "markdown",
      "metadata": {},
      "source": [
        "## Initialise variables"
      ]
    },
    {
      "cell_type": "code",
      "execution_count": 10,
      "metadata": {},
      "outputs": [
        {
          "name": "stderr",
          "output_type": "stream",
          "text": [
            "/var/folders/bm/k1ffy7j930jdkxs326mj3pt80000gn/T/ipykernel_5372/2096905199.py:37: RuntimeWarning: invalid value encountered in double_scalars\n",
            "  gamma[j+jc, k] = pres[j+jc, k]**(kappa - 1.0)\n",
            "/var/folders/bm/k1ffy7j930jdkxs326mj3pt80000gn/T/ipykernel_5372/2096905199.py:51: RuntimeWarning: invalid value encountered in double_scalars\n",
            "  ftmp[k] = pres[j, k]**kappa / (kappa * alpha)\n"
          ]
        },
        {
          "ename": "IndexError",
          "evalue": "index 61 is out of bounds for axis 1 with size 61",
          "output_type": "error",
          "traceback": [
            "\u001b[0;31m---------------------------------------------------------------------------\u001b[0m",
            "\u001b[0;31mIndexError\u001b[0m                                Traceback (most recent call last)",
            "\u001b[1;32m/Users/williewillow/Documents/COLLEGE/2023Summer/trade-cumulus-inversion/invtci.ipynb Cell 9\u001b[0m in \u001b[0;36m<cell line: 48>\u001b[0;34m()\u001b[0m\n\u001b[1;32m     <a href='vscode-notebook-cell:/Users/williewillow/Documents/COLLEGE/2023Summer/trade-cumulus-inversion/invtci.ipynb#X15sZmlsZQ%3D%3D?line=52'>53</a>\u001b[0m     x[j, :] \u001b[39m=\u001b[39m np\u001b[39m.\u001b[39minterp(x[j, :], np\u001b[39m.\u001b[39marange(kc), xtmp)\n\u001b[1;32m     <a href='vscode-notebook-cell:/Users/williewillow/Documents/COLLEGE/2023Summer/trade-cumulus-inversion/invtci.ipynb#X15sZmlsZQ%3D%3D?line=53'>54</a>\u001b[0m     x[j, \u001b[39m-\u001b[39m\u001b[39m1\u001b[39m] \u001b[39m=\u001b[39m x[j, \u001b[39m1\u001b[39m] \u001b[39m-\u001b[39m tdz \u001b[39m*\u001b[39m x[j, \u001b[39m0\u001b[39m] \u001b[39m/\u001b[39m beta\n\u001b[0;32m---> <a href='vscode-notebook-cell:/Users/williewillow/Documents/COLLEGE/2023Summer/trade-cumulus-inversion/invtci.ipynb#X15sZmlsZQ%3D%3D?line=54'>55</a>\u001b[0m     x[j, kcp] \u001b[39m=\u001b[39m x[j, kcm] \u001b[39m+\u001b[39m tdz \u001b[39m*\u001b[39m (\u001b[39m1.0\u001b[39m \u001b[39m-\u001b[39m alpha)\u001b[39m*\u001b[39m\u001b[39m*\u001b[39mkappa \u001b[39m/\u001b[39m (kappa \u001b[39m*\u001b[39m alpha)\n\u001b[1;32m     <a href='vscode-notebook-cell:/Users/williewillow/Documents/COLLEGE/2023Summer/trade-cumulus-inversion/invtci.ipynb#X15sZmlsZQ%3D%3D?line=56'>57</a>\u001b[0m x[\u001b[39m0\u001b[39m, :] \u001b[39m=\u001b[39m \u001b[39m0.0\u001b[39m  \u001b[39m# Assuming special handling for j = 0\u001b[39;00m\n\u001b[1;32m     <a href='vscode-notebook-cell:/Users/williewillow/Documents/COLLEGE/2023Summer/trade-cumulus-inversion/invtci.ipynb#X15sZmlsZQ%3D%3D?line=58'>59</a>\u001b[0m x \u001b[39m=\u001b[39m np\u001b[39m.\u001b[39mzeros((\u001b[39m2\u001b[39m\u001b[39m*\u001b[39mjc\u001b[39m+\u001b[39m\u001b[39m1\u001b[39m, kcp\u001b[39m+\u001b[39m\u001b[39m1\u001b[39m))\n",
            "\u001b[0;31mIndexError\u001b[0m: index 61 is out of bounds for axis 1 with size 61"
          ]
        }
      ],
      "source": [
        "theta1 = np.zeros(2*jc+1)\n",
        "theta2 = np.zeros(2*jc+1)\n",
        "pres = np.zeros((2*jc+1, kc+1))\n",
        "gamma = np.zeros((2*jc+1, kc+1))\n",
        "refp = np.zeros(kc+1)\n",
        "ftmp = np.zeros(kc)\n",
        "\n",
        "for j in range(-jc, jc+1):\n",
        "    if phid[j+jc] > phin or phid[j+jc] < phis:\n",
        "        theta1[j+jc] = theta10\n",
        "    elif phid[j+jc] <= phin and phid[j+jc] > phic:\n",
        "        fphi = (phin - phid[j+jc]) / (phin - phic)\n",
        "        theta1[j+jc] = theta10 + dtheta * np.exp(fphi)\n",
        "    elif phid[j+jc] == phic:\n",
        "        theta1[j+jc] = theta10 + dtheta\n",
        "    elif phid[j+jc] < phic and phid[j+jc] >= phis:\n",
        "        fphi = (phid[j+jc] - phis) / (phic - phis)\n",
        "        theta1[j+jc] = theta10 + dtheta * np.exp(fphi)\n",
        "    theta2[j+jc] = theta1[j+jc] + thetac\n",
        "\n",
        "dz = 1.0 / kc\n",
        "tdz = 2.0 * dz\n",
        "pres = np.zeros((2*jc+1, kc+1))\n",
        "gamma = np.zeros((2*jc+1, kc+1))\n",
        "refp = np.zeros(kc+1)\n",
        "\n",
        "for k in range(kc+1):\n",
        "    for j in range(-jc, jc+1):\n",
        "        if theta[k] >= theta2[j+jc]:\n",
        "            pres[j+jc, k] = pb - sigma0 * (theta[k] - thetab) + dp\n",
        "        elif theta[k] < theta2[j+jc] and theta[k] >= theta1[j+jc]:\n",
        "            fthet = (theta[k] - theta1[j+jc]) / (theta2[j+jc] - theta1[j+jc])\n",
        "            pres[j+jc, k] = pb - sigma0 * (theta[k] - thetab) + dp * np.exp(fthet)\n",
        "        elif theta[k] < theta1[j+jc]:\n",
        "            pres[j+jc, k] = pb - sigma0 * (theta[k] - thetab)\n",
        "        pres[j+jc, k] /= pb\n",
        "        gamma[j+jc, k] = pres[j+jc, k]**(kappa - 1.0)\n",
        "\n",
        "    sum = 0.0\n",
        "    for j in range(-jc+1, jc-1, 2):\n",
        "        sum += pres[j+jc, k] * (sc[j+1] - sc[j-1])\n",
        "    refp[k] = 0.5 * sum\n",
        "\n",
        "method = 1\n",
        "x = np.zeros((2*jc+1, kc+1))\n",
        "xtmp = np.zeros(kc)\n",
        "\n",
        "for j in range(-jc+1, jc-1, 2):\n",
        "    x[j, 0] = cp * thetab / cs\n",
        "    for k in range(kc):\n",
        "        ftmp[k] = pres[j, k]**kappa / (kappa * alpha)\n",
        "    # Call intdde function here if available\n",
        "    x[j, :] = np.interp(x[j, :], np.arange(kc), xtmp)\n",
        "    x[j, -1] = x[j, 1] - tdz * x[j, 0] / beta\n",
        "    x[j, kcp] = x[j, kcm] + tdz * (1.0 - alpha)**kappa / (kappa * alpha)\n",
        "\n",
        "x[0, :] = 0.0  # Assuming special handling for j = 0\n",
        "\n",
        "x = np.zeros((2*jc+1, kcp+1))\n",
        "\n",
        "for j in range(-jc+2, jc-2, 2):\n",
        "    x[j, :] = sc[j]"
      ]
    },
    {
      "cell_type": "code",
      "execution_count": null,
      "metadata": {},
      "outputs": [],
      "source": []
    }
  ],
  "metadata": {
    "colab": {
      "authorship_tag": "ABX9TyMValJWSrQOIRuaaBO3Xe0B",
      "include_colab_link": true,
      "provenance": []
    },
    "kernelspec": {
      "display_name": "Python 3",
      "name": "python3"
    },
    "language_info": {
      "codemirror_mode": {
        "name": "ipython",
        "version": 3
      },
      "file_extension": ".py",
      "mimetype": "text/x-python",
      "name": "python",
      "nbconvert_exporter": "python",
      "pygments_lexer": "ipython3",
      "version": "3.10.5"
    }
  },
  "nbformat": 4,
  "nbformat_minor": 0
}
