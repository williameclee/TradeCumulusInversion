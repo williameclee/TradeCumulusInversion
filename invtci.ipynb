{
  "cells": [
    {
      "cell_type": "markdown",
      "metadata": {
        "colab_type": "text",
        "id": "view-in-github"
      },
      "source": [
        "<a href=\"https://colab.research.google.com/github/williameclee/trade-cumulus-inversion/blob/main/invtci.ipynb\" target=\"_parent\"><img src=\"https://colab.research.google.com/assets/colab-badge.svg\" alt=\"Open In Colab\"/></a>"
      ]
    },
    {
      "cell_type": "markdown",
      "metadata": {
        "id": "yzX3HLufdMra"
      },
      "source": [
        "# Trade Cumulus Inversion\n",
        "\n",
        "## Loading of necessary libraries\n",
        "The required libraries include: `numpy`, `scipy`, `matplotlib`, and custom libraries `inv` and `updateboundary`."
      ]
    },
    {
      "cell_type": "code",
      "execution_count": null,
      "metadata": {},
      "outputs": [],
      "source": [
        "%load_ext autoreload\n",
        "%autoreload 2\n",
        "import numpy as np\n",
        "import scipy as sp\n",
        "import matplotlib.pyplot as plt\n",
        "from inv import *\n",
        "import updateboundary"
      ]
    },
    {
      "cell_type": "markdown",
      "metadata": {},
      "source": [
        "## Speficication of experiment parameters"
      ]
    },
    {
      "cell_type": "code",
      "execution_count": null,
      "metadata": {
        "id": "qDxQnwBHdWLl"
      },
      "outputs": [],
      "source": [
        "# Experiment dimensions\n",
        "K = 61\n",
        "J = 81\n",
        "Kt = K + 2\n",
        "Jt = 2 * J + 1\n",
        "\n",
        "# Physical parameters\n",
        "R = 287\n",
        "cp = 1004\n",
        "kappa = R / cp\n",
        "gr = 9.81\n",
        "Ae = 6.371e06\n",
        "Omega = 7.292e-05\n",
        "rom = Ae * Omega"
      ]
    },
    {
      "cell_type": "markdown",
      "metadata": {},
      "source": [
        "## Initialising paremeters for experiment 2"
      ]
    },
    {
      "cell_type": "code",
      "execution_count": null,
      "metadata": {},
      "outputs": [],
      "source": [
        "thetat = 320  # theta (kelvin) at model top\n",
        "thetab = 300  # theta (kelvin) at model bottom\n",
        "sigma0 = 45 * 100  # sigma0 (Pa/K)\n",
        "pb = 1000 * 100  # pressure (Pa) at model bottom\n",
        "\n",
        "Dp = 58 * 100  # pressure (Pa) change across inversion\n",
        "theta10 = 303  # mean theta (kelvin) in inversion\n",
        "Dtheta = 4  # dtheta (kelvin) of inversion\n",
        "thetac = 3  # thetac (kelvin) of inversion\n",
        "\n",
        "phis = -30  # southern extent of inversion (degrees)\n",
        "phin = 30  # northern extent of inversion (degrees)\n",
        "phic = 0  # latitude (degrees) of inversion center\n",
        "\n",
        "pt = pb - sigma0 * (thetat - thetab) + Dp"
      ]
    },
    {
      "cell_type": "code",
      "execution_count": null,
      "metadata": {},
      "outputs": [],
      "source": [
        "alpha = (pb - pt) / pb\n",
        "beta = thetab / (thetat - thetab)\n",
        "cs = alpha * R * (thetat - thetab)\n",
        "eps = 4 * rom**2 / cs"
      ]
    },
    {
      "cell_type": "markdown",
      "metadata": {},
      "source": [
        "## Initialising coordinates"
      ]
    },
    {
      "cell_type": "code",
      "execution_count": null,
      "metadata": {},
      "outputs": [],
      "source": [
        "# Horizontal grid\n",
        "Y = np.linspace(-1, 1, Jt)  # Potential latitude (S) in the paper\n",
        "DY = Y[1] - Y[0]\n",
        "phi = np.rad2deg(np.arcsin(Y))\n",
        "\n",
        "# Vertical grid\n",
        "Z = np.linspace(0, 1, K)\n",
        "DZ = Z[1] - Z[0]\n",
        "th = np.linspace(thetab, thetat, K).T\n",
        "Dth = th[1] - th[0]\n",
        "th_pad = np.concatenate((np.array([thetab - Dth]), th, np.array([thetat + Dth])))\n",
        "\n",
        "YY, Th_pad = np.meshgrid(Y, th_pad, indexing=\"ij\")\n",
        "phii = np.meshgrid(phi, th_pad, indexing=\"ij\")[0]\n",
        "\n",
        "fac1 = eps * DY * Y\n",
        "fac2 = 2 * DY * DZ**2\n",
        "f1 = fac1 * (1 - Y**2)"
      ]
    },
    {
      "cell_type": "markdown",
      "metadata": {},
      "source": [
        "## Initialising variables for experiment 2"
      ]
    },
    {
      "cell_type": "code",
      "execution_count": null,
      "metadata": {},
      "outputs": [],
      "source": [
        "# Theta\n",
        "phi_N = (phi <= phin) & (phi > phic)\n",
        "phi_S = (phi >= phis) & (phi < phic)\n",
        "phi_C = phi == phic\n",
        "th1 = np.full((Jt), theta10)\n",
        "\n",
        "th1[phi_N] = theta10 + Dtheta * fexp((phin - phi[phi_N]) / (phin - phic))\n",
        "th1[phi_S] = theta10 + Dtheta * fexp((phi[phi_S] - phis) / (phic - phis))\n",
        "th1[phi_C] = theta10 + Dtheta\n",
        "th2 = th1 + thetac\n",
        "\n",
        "del phi_N, phi_S, phi_C\n",
        "\n",
        "#  Pressure\n",
        "th1_grid = np.meshgrid(th1, th_pad, indexing=\"ij\")[0]\n",
        "th2_grid = np.meshgrid(th2, th_pad, indexing=\"ij\")[0]\n",
        "th_T = Th_pad >= th2_grid\n",
        "th_C = (Th_pad > th1_grid) & (Th_pad < th2_grid)\n",
        "th_B = Th_pad <= th1_grid\n",
        "Pres = pb - sigma0 * (Th_pad - thetab)\n",
        "Pres[th_T] = Pres[th_T] + Dp\n",
        "Pres[th_C] = Pres[th_C] + Dp * fexp((Th_pad[th_C] - th1_grid[th_C]) / thetac)\n",
        "Pres = Pres / pb\n",
        "pref = np.zeros([1, Kt])\n",
        "for k in range(Kt):\n",
        "    pref[0, k] = pmean(Pres[:, k], Y)\n",
        "Gamma = Pres ** (kappa - 1)"
      ]
    },
    {
      "cell_type": "code",
      "execution_count": null,
      "metadata": {},
      "outputs": [],
      "source": [
        "# compute initial m field at even points\n",
        "# the M (Montgomery potential) is normalised by a factor of cs\n",
        "X = np.zeros((Jt, Kt))  # (-jc+1:jc-1,-1:kcp)\n",
        "# xtmp = np.zeros(K + 1)  # (0:kc)\n",
        "# ftmp = np.zeros(K + 1)  # (0:kc)\n",
        "\n",
        "X[1:-1:2, 1] = cp * thetab / cs\n",
        "for j in range(1, Jt - 1, 2):\n",
        "    Mp = Pres[j, 1:-1] ** kappa / (kappa * alpha)\n",
        "    # xtmp = intdde(K, DZ, x[j, 0], Mp)\n",
        "    X[j, 1:-1] = intdde(Mp, X[j, 0], DZ)\n",
        "X[1:-1:2, 0] = X[1:-1:2, 2] - 2 * DZ * X[1:-1:2, 1] / beta\n",
        "X[1:-1:2, -1] = X[1:-1:2, -3] + 2 * DZ * (1 - alpha) ** kappa / (kappa * alpha)\n",
        "\n",
        "# initialise x (i.e., sin(phi)) at odd points\n",
        "X[::2, :] = np.tile(Y[::2], (Kt, 1)).T"
      ]
    },
    {
      "cell_type": "markdown",
      "metadata": {},
      "source": [
        "## Compute Sigma"
      ]
    },
    {
      "cell_type": "code",
      "execution_count": null,
      "metadata": {},
      "outputs": [],
      "source": [
        "tinc = 0.1\n",
        "sigma = np.ones((Jt, Kt)) \n",
        "\n",
        "# Calculate sigma values\n",
        "for j in range(Jt):\n",
        "    for k in range(1,Kt):\n",
        "        if th_C[j, k] != 1:\n",
        "            continue\n",
        "        tp = th[k] + tinc\n",
        "        tm = th[k] - tinc\n",
        "        fp = (tp - th1[j]) / (th2[j] - th1[j])\n",
        "        fm = (tm - th1[j]) / (th2[j] - th1[j])\n",
        "        dfdt = (fp - fm) / (2 * tinc)\n",
        "        sigma[j, k] = (sigma0 - Dp * dfdt) / sigma0\n",
        "\n",
        "del th1_grid, th2_grid, th_T, th_C"
      ]
    },
    {
      "cell_type": "code",
      "execution_count": null,
      "metadata": {},
      "outputs": [],
      "source": [
        "X = updateBoundary_M(X, Y, DZ, eps, alpha, beta, kappa)"
      ]
    },
    {
      "cell_type": "markdown",
      "metadata": {},
      "source": [
        "## Iteration"
      ]
    },
    {
      "cell_type": "code",
      "execution_count": null,
      "metadata": {},
      "outputs": [],
      "source": [
        "fig, ax = plt.subplots()\n",
        "contourf_p = ax.contourf(phi, th, Pres.T * pb / 100, levels=10)\n",
        "ax.set_xlim(-30, 30)\n",
        "# ax.set_ylim(1000, 600)\n",
        "ax.set_xlabel(r\"Latitude $\\phi$ [°]\")\n",
        "ax.set_ylabel(r\"Pressure $p$ [hPa]\")\n",
        "fig.colorbar(contourf_p, label=r\"Potential temperature $\\theta$ [K]\")\n",
        "plt.show()\n",
        "\n",
        "nmax = 10  # maximum number of iteration sweeps\n",
        "niter = 1  # number of Newton iterations per sweep\n",
        "nup = 10  # print out the residual norm every nup iterations\n",
        "\n",
        "u = np.zeros((2 * J - 1, K + 1))  # (-jc+1:jc-1,0:kc)\n",
        "d = np.zeros((2 * J - 1, K + 1))  # (-jc+1:jc-1,0:kc)\n",
        "g = np.zeros((2 * J - 1, K + 1))  # (-jc+1:jc-1,0:kc)\n",
        "l = np.zeros((2 * J - 1, K + 1))  # (-jc+1:jc-1,0:kc)\n",
        "\n",
        "n = 0\n",
        "while n < nmax:\n",
        "    n = n + 1\n",
        "    rn = 0\n",
        "    # Zebra relaxation in horizontal direction\n",
        "    # first relax even horizontal lines, then odd lines\n",
        "    for ks in range(2):\n",
        "        iter = 0\n",
        "        while iter < niter:\n",
        "            iter = iter + 1\n",
        "            for k in range(ks, K + 1, 2):\n",
        "                kx = k + 1\n",
        "\n",
        "                # fill in matrix elements for even points\n",
        "                # point adjacent to south pole\n",
        "                # using sin(phi)=sin(Phi)=-1 for boundary condition at south pole\n",
        "                dxds = X[1, kx] + 1\n",
        "                dxdz2 = X[0, kx + 1] - 2 * X[0, kx] + X[0, kx - 1]\n",
        "                f2 = X[1, kx] - 1\n",
        "                f3 = 1 - (f2 / 2) ** 2\n",
        "                f4 = ((X[1, kx + 1] - X[1, kx - 1]) / 4) ** 2\n",
        "                term2 = f1[0 + 1] * f4 * (1 + 3 * (f2 / 2) ** 2) / (f3**3)\n",
        "                u[0, k] = dxdz2 + term2\n",
        "                d[0, k] = -2 * dxds\n",
        "                g[0, k] = -(\n",
        "                    dxds * dxdz2\n",
        "                    + f1[0 + 1] * f2 * f4 / f3**2\n",
        "                    + gamma[0, k] * sigma[0, k] * fac2\n",
        "                )\n",
        "                # point adjacent to north pole\n",
        "                # using sin(phi)=sin(Phi)=1 for boundary condition at south pole\n",
        "                dxds = 1 - X[-2, kx]\n",
        "                dxdz2 = X[-1, kx + 1] - 2 * X[-1, kx] + X[-1, kx - 1]\n",
        "                f2 = 1 + X[-2, kx]\n",
        "                f3 = 1 - (f2 / 2) ** 2\n",
        "                f4 = ((X[-2, kx + 1] - X[-2, kx - 1]) / 4) ** 2\n",
        "                term2 = f1[-1 - 1] * f4 * (1 + 3 * (f2 / 2) ** 2) / (f3**3)\n",
        "                d[-1, k] = -2 * dxds\n",
        "                l[-1, k] = -dxdz2 + term2\n",
        "                g[-1, k] = -(\n",
        "                    dxds * dxdz2\n",
        "                    + f1[-1 - 1] * f2 * f4 / f3**2\n",
        "                    + gamma[-1, k] * sigma[-1, k] * fac2\n",
        "                )\n",
        "                for j in range(2, 2 * J - 2, 2):\n",
        "                    dxds = X[j + 1, kx] - X[j - 1, kx]\n",
        "                    dxdz2 = X[j, kx + 1] - 2 * X[j, kx] + X[j, kx - 1]\n",
        "                    f2 = X[j + 1, kx] + X[j - 1, kx]\n",
        "                    f3 = 1 - (f2 / 2) ** 2\n",
        "                    f4 = (\n",
        "                        (\n",
        "                            X[j + 1, kx + 1]\n",
        "                            + X[j - 1, kx + 1]\n",
        "                            - X[j + 1, kx - 1]\n",
        "                            - X[j - 1, kx - 1]\n",
        "                        )\n",
        "                        / 4\n",
        "                    ) ** 2\n",
        "                    term2 = f1[j + 1] * f4 * (1 + 3 * (f2 / 2) ** 2) / (f3**3)\n",
        "                    u[j, k] = dxdz2 + term2\n",
        "                    d[j, k] = -2 * dxds\n",
        "                    l[j, k] = -dxdz2 + term2\n",
        "                    g[j, k] = -(\n",
        "                        dxds * dxdz2\n",
        "                        + f1[j + 1] * f2 * f4 / (f3**2)\n",
        "                        + gamma[j, k] * sigma[j, k] * fac2\n",
        "                    )\n",
        "                # fill in matrix elements for odd points\n",
        "                for j in range(1, 2 * J - 1, 2):\n",
        "                    xjs = X[j, kx] * X[j, kx]\n",
        "                    fj = xjs - scs[j + 1]\n",
        "                    dj = 1 - xjs\n",
        "                    l[j, k] = -1\n",
        "                    d[j, k] = fac1[j + 1] * (\n",
        "                        2 * X[j, kx] * (1 - scs[j + 1]) / (dj**2)\n",
        "                    )\n",
        "                    u[j, k] = 1\n",
        "                    g[j, k] = -(fac1[j + 1] * (fj / dj) + X[j + 1, kx] - X[j - 1, kx])\n",
        "            if iter == 1 & n == 1:\n",
        "                plt.contourf(u.T)\n",
        "                plt.colorbar()\n",
        "                plt.show()\n",
        "                plt.contourf(l.T)\n",
        "                plt.colorbar()\n",
        "                plt.show()\n",
        "                plt.contourf(d.T)\n",
        "                plt.colorbar()\n",
        "                plt.show()\n",
        "                plt.contourf(g.T)\n",
        "                plt.colorbar()\n",
        "                plt.show()\n",
        "\n",
        "            u, d, l = gtdmsf(l, d, u)\n",
        "            g = gtdmss(l, d, u, g)\n",
        "\n",
        "            X[:, ks + 1 : K + 2 : 2] = X[:, ks + 1 : K + 2 : 2] + g[:, ks : K + 1 : 2]\n",
        "\n",
        "        # update boundary\n",
        "        X[::2, -1], X[::2, 0] = updateboundary.updateBoundary_M(\n",
        "            X, scs, DZ, tdz, alpha, beta, eps, kappa\n",
        "        )\n",
        "        X[1::2, -1], X[1::2, 0] = updateboundary.s_boundary(X, fac1, scs)\n",
        "        # Find gamma for general case\n",
        "        pres[1:-1:2, :], gamma[1:-1:2, :], avep, dif = updateboundary.gamma_correction(\n",
        "            pres, gamma, X, K, refp, kappa, alpha, tdz\n",
        "        )\n",
        "        # compute a corrected m field\n",
        "        X[::2, :] = updateboundary.m_correction(\n",
        "            X, pres, J, K, DZ, tdz, alpha, beta, eps, kappa, scs\n",
        "        )\n",
        "\n",
        "fig, ax = plt.subplots()\n",
        "contourf_p = ax.contourf(phi, th, pres.T * pb / 100, levels=10)\n",
        "ax.set_xlim(-30, 30)\n",
        "# ax.set_ylim(1000, 600)\n",
        "ax.set_xlabel(r\"Latitude $\\phi$ [°]\")\n",
        "ax.set_ylabel(r\"Pressure $p$ [hPa]\")\n",
        "fig.colorbar(contourf_p, label=r\"Potential temperature $\\theta$ [K]\")\n",
        "plt.show()"
      ]
    }
  ],
  "metadata": {
    "colab": {
      "authorship_tag": "ABX9TyMValJWSrQOIRuaaBO3Xe0B",
      "include_colab_link": true,
      "provenance": []
    },
    "kernelspec": {
      "display_name": "Python 3",
      "name": "python3"
    },
    "language_info": {
      "codemirror_mode": {
        "name": "ipython",
        "version": 3
      },
      "file_extension": ".py",
      "mimetype": "text/x-python",
      "name": "python",
      "nbconvert_exporter": "python",
      "pygments_lexer": "ipython3",
      "version": "3.10.5"
    }
  },
  "nbformat": 4,
  "nbformat_minor": 0
}
