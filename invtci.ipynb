{
  "cells": [
    {
      "cell_type": "markdown",
      "metadata": {
        "colab_type": "text",
        "id": "view-in-github"
      },
      "source": [
        "<a href=\"https://colab.research.google.com/github/williameclee/trade-cumulus-inversion/blob/main/invtci.ipynb\" target=\"_parent\"><img src=\"https://colab.research.google.com/assets/colab-badge.svg\" alt=\"Open In Colab\"/></a>"
      ]
    },
    {
      "cell_type": "markdown",
      "metadata": {
        "id": "yzX3HLufdMra"
      },
      "source": [
        "# Trade Cumulus Inversion\n",
        "\n",
        "## Loading of necessary libraries\n",
        "The required libraries include: `numpy`, `scipy`, `matplotlib`, and custom libraries `inv` and `updateboundary`."
      ]
    },
    {
      "cell_type": "code",
      "execution_count": null,
      "metadata": {},
      "outputs": [],
      "source": [
        "%load_ext autoreload\n",
        "%autoreload 2\n",
        "import numpy as np\n",
        "import scipy as sp\n",
        "import matplotlib.pyplot as plt\n",
        "from inv import *\n",
        "from updateBoundary import *"
      ]
    },
    {
      "cell_type": "markdown",
      "metadata": {},
      "source": [
        "## Speficication of experiment parameters"
      ]
    },
    {
      "cell_type": "code",
      "execution_count": null,
      "metadata": {
        "id": "qDxQnwBHdWLl"
      },
      "outputs": [],
      "source": [
        "# Experiment dimensions\n",
        "K = 61\n",
        "J = 81\n",
        "Jt = 2 * J + 1\n",
        "Kt = K + 2\n",
        "\n",
        "# Physical parameters\n",
        "R = 287.\n",
        "cp = 1004.\n",
        "kappa = R / cp\n",
        "gr = 9.81\n",
        "Ae = 6.371e06\n",
        "Omega = 7.292e-05\n",
        "rom = Ae * Omega"
      ]
    },
    {
      "cell_type": "markdown",
      "metadata": {},
      "source": [
        "## Initialising paremeters for experiment 2"
      ]
    },
    {
      "cell_type": "code",
      "execution_count": null,
      "metadata": {},
      "outputs": [],
      "source": [
        "thetat = 320.  # theta (kelvin) at model top\n",
        "thetab = 300.  # theta (kelvin) at model bottom\n",
        "sigma0 = 45. * 100  # sigma0 (Pa/K)\n",
        "pb = 1000 * 100  # pressure (Pa) at model bottom\n",
        "\n",
        "Dp = 58. * 100  # pressure (Pa) change across inversion\n",
        "theta10 = 303.  # mean theta (kelvin) in inversion\n",
        "Dtheta = 4.  # dtheta (kelvin) of inversion\n",
        "thetac = 3.  # thetac (kelvin) of inversion\n",
        "\n",
        "phis = -30.  # southern extent of inversion (degrees)\n",
        "phin = 30.  # northern extent of inversion (degrees)\n",
        "phic = 0.  # latitude (degrees) of inversion center\n",
        "\n",
        "pt = pb - sigma0 * (thetat - thetab) + Dp"
      ]
    },
    {
      "cell_type": "code",
      "execution_count": null,
      "metadata": {},
      "outputs": [],
      "source": [
        "alpha = (pb - pt) / pb\n",
        "beta = thetab / (thetat - thetab)\n",
        "cs = alpha * R * (thetat - thetab)\n",
        "eps = 4 * rom**2 / cs"
      ]
    },
    {
      "cell_type": "markdown",
      "metadata": {},
      "source": [
        "## Initialising coordinates"
      ]
    },
    {
      "cell_type": "code",
      "execution_count": null,
      "metadata": {},
      "outputs": [],
      "source": [
        "# Horizontal grid\n",
        "Y = np.linspace(-1, 1, Jt)  # Potential latitude (S) in the paper\n",
        "DY = Y[1] - Y[0]\n",
        "phi = np.rad2deg(np.arcsin(Y))\n",
        "\n",
        "# Vertical grid\n",
        "Z = np.linspace(0, 1, K)\n",
        "DZ = Z[1] - Z[0]\n",
        "th = np.linspace(thetab, thetat, K).T\n",
        "Dth = th[1] - th[0]\n",
        "th_pad = np.concatenate((np.array([thetab - Dth]), th, np.array([thetat + Dth])))\n",
        "\n",
        "YY, Th_pad = np.meshgrid(Y, th_pad, indexing=\"ij\")\n",
        "phii = np.meshgrid(phi, th_pad, indexing=\"ij\")[0]\n",
        "\n",
        "fac1 = eps * DY * Y\n",
        "fac2 = 2 * DY * DZ**2\n",
        "f1 = fac1 * (1 - Y**2)"
      ]
    },
    {
      "cell_type": "markdown",
      "metadata": {},
      "source": [
        "## Initialising variables for experiment 2"
      ]
    },
    {
      "cell_type": "code",
      "execution_count": null,
      "metadata": {},
      "outputs": [],
      "source": [
        "# Theta\n",
        "phi_N = (phi <= phin) & (phi > phic)\n",
        "phi_S = (phi >= phis) & (phi < phic)\n",
        "phi_C = phi == phic\n",
        "th1 = np.full((Jt), theta10)\n",
        "\n",
        "th1[phi_N] = theta10 + Dtheta * fexp((phin - phi[phi_N]) / (phin - phic))\n",
        "th1[phi_S] = theta10 + Dtheta * fexp((phi[phi_S] - phis) / (phic - phis))\n",
        "th1[phi_C] = theta10 + Dtheta\n",
        "th2 = th1 + thetac\n",
        "\n",
        "del phi_N, phi_S, phi_C\n",
        "\n",
        "#  Pressure\n",
        "th1_grid = np.meshgrid(th1, th_pad, indexing=\"ij\")[0]\n",
        "th2_grid = np.meshgrid(th2, th_pad, indexing=\"ij\")[0]\n",
        "th_T = Th_pad >= th2_grid\n",
        "th_C = (Th_pad > th1_grid) & (Th_pad < th2_grid)\n",
        "th_B = Th_pad <= th1_grid\n",
        "Pres = pb - sigma0 * (Th_pad - thetab)\n",
        "Pres[th_T] = Pres[th_T] + Dp\n",
        "Pres[th_C] = Pres[th_C] + Dp * fexp((Th_pad[th_C] - th1_grid[th_C]) / thetac)\n",
        "Pres = Pres / pb\n",
        "pref = np.zeros([1, Kt])\n",
        "for k in range(Kt):\n",
        "    pref[0, k] = pmean(Pres[:, k], Y)\n",
        "Gamma = Pres ** (kappa - 1)"
      ]
    },
    {
      "cell_type": "code",
      "execution_count": null,
      "metadata": {},
      "outputs": [],
      "source": [
        "# compute initial m field at even points\n",
        "# the M (Montgomery potential) is normalised by a factor of cs\n",
        "X = np.zeros((Jt, Kt))\n",
        "\n",
        "X[1:-1:2, 1] = cp * thetab / cs\n",
        "for j in range(1, Jt - 1, 2):\n",
        "    Mp = Pres[j, 1:-1] ** kappa / (kappa * alpha)\n",
        "    X[j, 1:-1] = intdde(Mp, X[j, 1], DZ)\n",
        "X[1:-1:2, 0] = X[1:-1:2, 2] - 2 * DZ * X[1:-1:2, 1] / beta\n",
        "X[1:-1:2, -1] = X[1:-1:2, -3] + 2 * DZ * (1 - alpha) ** kappa / (kappa * alpha)\n",
        "\n",
        "# initialise x (i.e., sin(phi)) at odd points\n",
        "X[::2, :] = np.tile(Y[::2], (Kt, 1)).T"
      ]
    },
    {
      "cell_type": "markdown",
      "metadata": {},
      "source": [
        "## Compute Sigma"
      ]
    },
    {
      "cell_type": "code",
      "execution_count": null,
      "metadata": {},
      "outputs": [],
      "source": [
        "tinc = 0.1\n",
        "Sigma = np.ones((Jt, Kt)) \n",
        "\n",
        "# Calculate sigma values\n",
        "for j in range(Jt):\n",
        "    for k in range(1,Kt):\n",
        "        if th_C[j, k] != 1:\n",
        "            continue\n",
        "        tp = th[k] + tinc\n",
        "        tm = th[k] - tinc\n",
        "        fp = (tp - th1[j]) / (th2[j] - th1[j])\n",
        "        fm = (tm - th1[j]) / (th2[j] - th1[j])\n",
        "        dfdt = (fp - fm) / (2 * tinc)\n",
        "        Sigma[j, k] = (sigma0 - Dp * dfdt) / sigma0\n",
        "\n",
        "del th1_grid, th2_grid, th_T, th_C"
      ]
    },
    {
      "cell_type": "code",
      "execution_count": null,
      "metadata": {},
      "outputs": [],
      "source": [
        "X, Pres, Gamma, pmean = updateBoundary(X, Y, DZ, Pres, Gamma, pref, fac1, alpha, beta, eps, kappa)\n",
        "\n",
        "Pres0 = Pres\n",
        "X0 = X"
      ]
    },
    {
      "cell_type": "markdown",
      "metadata": {},
      "source": [
        "## Iteration"
      ]
    },
    {
      "cell_type": "code",
      "execution_count": null,
      "metadata": {},
      "outputs": [],
      "source": [
        "for n in range(100):\n",
        "    for kz in [1, 2]:\n",
        "        for niter in range(4):\n",
        "            for k in range(kz, Kt - 1, 2):\n",
        "                Jac = np.zeros([X.shape[0], X.shape[0]])\n",
        "                G = np.zeros((X.shape[0], 1))\n",
        "\n",
        "                for j in range(1, Jt - 1, 2):\n",
        "                    dsdY = X[j + 1, k] - X[j - 1, k]\n",
        "                    dMdZZ = X[j, k - 1] - 2 * X[j, k] + X[j, k + 1]\n",
        "\n",
        "                    Jac[j, j] = -2 * dsdY\n",
        "                    Jac[j, j - 1] = -dMdZZ\n",
        "                    Jac[j, j + 1] = dMdZZ\n",
        "                    G[j] = dsdY * dMdZZ + Gamma[j, k] * Sigma[j, k] * fac2\n",
        "\n",
        "                for j in range(2, Jt - 2, 2):\n",
        "                    dMdY = X[j + 1, k] - X[j - 1, k]\n",
        "\n",
        "                    Jac[j, j] = (\n",
        "                        fac1[j]\n",
        "                        * (2 * X[j, k])\n",
        "                        * (1 - Y[j] ** 2)\n",
        "                        / (1 - X[j, k] ** 2) ** 2\n",
        "                    )\n",
        "                    Jac[j, j - 1] = -1\n",
        "                    Jac[j, j + 1] = 1\n",
        "                    G[j] = dMdY - fac1[j] * (Y[j] ** 2 - X[j, k] ** 2) / (\n",
        "                        1 - X[j, k] ** 2\n",
        "                    )\n",
        "\n",
        "                X[1:-1, k] = X[1:-1, k] - np.linalg.solve(Jac[1:-1, 1:-1], G[1:-1]).T\n",
        "    X, Pres, Gamma, pmean = updateBoundary(\n",
        "        X, Y, DZ, Pres, Gamma, pref, fac1, alpha, beta, eps, kappa\n",
        "    )"
      ]
    }
  ],
  "metadata": {
    "colab": {
      "authorship_tag": "ABX9TyMValJWSrQOIRuaaBO3Xe0B",
      "include_colab_link": true,
      "provenance": []
    },
    "kernelspec": {
      "display_name": "Python 3",
      "name": "python3"
    },
    "language_info": {
      "codemirror_mode": {
        "name": "ipython",
        "version": 3
      },
      "file_extension": ".py",
      "mimetype": "text/x-python",
      "name": "python",
      "nbconvert_exporter": "python",
      "pygments_lexer": "ipython3",
      "version": "3.10.5"
    }
  },
  "nbformat": 4,
  "nbformat_minor": 0
}
